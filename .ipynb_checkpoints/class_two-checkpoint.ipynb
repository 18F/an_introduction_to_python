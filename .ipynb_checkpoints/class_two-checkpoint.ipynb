{
 "cells": [
  {
   "cell_type": "markdown",
   "metadata": {},
   "source": [
    "# Class Two - Dealing with the file system and standing on the shoulders of giants\n",
    "\n",
    "The reason the Python language is so good is not because of it's syntax.  It's syntax is wonderful!  But almost all modern programming languages are similar.  Python is just one of many languages that looks and feels the way it does.  This is not by accident, that's because the good ideas in computer languages are not owned by any one language.  \n",
    "\n",
    "The reason the Python language is the powerhouse that it is, is simple, it's because of the community.  Python has more built with it than almost any other language I know of.  And it's much younger than the ones with more built in it, looking at you, Java.\n",
    "\n",
    "So how do we leverage the true power of Python?  With one simple statement, `import`.\n",
    "\n",
    "Let's see an example to understand this better."
   ]
  },
  {
   "cell_type": "code",
   "execution_count": 3,
   "metadata": {},
   "outputs": [
    {
     "name": "stdout",
     "output_type": "stream",
     "text": [
      "8.0\n"
     ]
    }
   ],
   "source": [
    "import math\n",
    "\n",
    "print(math.pow(2,3))"
   ]
  },
  {
   "cell_type": "markdown",
   "metadata": {},
   "source": [
    "So what did we just see here?  First, we imported the `math` and then we used a function as part of the math library to do some computation.  In order to get a better sense of this, let's introduce some definitions.\n",
    "\n",
    "**Definition** _library_ - a library (also sometimes called a module), is a collection of code that can be used in your existing program.  In python you access these libraries by first importing them into your program.\n",
    "\n",
    "**Definition** _class_ - a class is a collection of functions and data, all accessed via a dot operator.  You call functions by adding opening and closing paranthesis after the name of the function, with possibly some input variables in between.  \n",
    "\n",
    "**Definition** _dot operator_ - a dot is used to break up paths to specific pieces of code.  We already know another piece of notation to break up semantically different pieces in a long string - `/` when used in the context of the file system.\n",
    "\n",
    "Often times the library you are importing will have multiple classes - collections of code - that you'll want to access individually.  Here's an example of using such a piece of code:"
   ]
  },
  {
   "cell_type": "code",
   "execution_count": 4,
   "metadata": {},
   "outputs": [
    {
     "data": {
      "text/plain": [
       "NormaltestResult(statistic=32.008023157040626, pvalue=1.1208463532086409e-07)"
      ]
     },
     "execution_count": 4,
     "metadata": {},
     "output_type": "execute_result"
    }
   ],
   "source": [
    "from scipy import stats\n",
    "import random\n",
    "\n",
    "set_of_values = [random.randint(0,100) for _ in range(100)]\n",
    "stats.normaltest(set_of_values)"
   ]
  },
  {
   "cell_type": "markdown",
   "metadata": {},
   "source": [
    "The above piece of code does two import statements - first it selects the `stats` class from `scipy`.  And then it imports `random` - a module that generates random data.  The remaining lines of code aren't super important to understand it detail.  But just note that I'm calling `stats.normaltest` and `random.randint`.  I'm calling two functions defined in the classes `stats` and `random`.  That's the important take away.  \n",
    "\n",
    "Of course, I could probably write these functions myself and these classes for that matter.  But that would take a lot of time.  I'd have to look up the algorithms, internalize how they work, and then go about writing them.  It would probably take many, many tries to actually get them right, even after I understand them.  And then, maybe 3 months from now, I'd have code that functions as the above 4 lines does.  \n",
    "\n",
    "This is what I mean when I say Python lets you stand on the shoulders of giants.  The Python community has already done the hard work for you!  All you have to do is `import` [whatever] and go!  \n",
    "\n",
    "Now ofcourse things are slightly more complicated than that.  But more on that later!"
   ]
  },
  {
   "cell_type": "markdown",
   "metadata": {},
   "source": [
    "## Understanding the File System\n",
    "\n",
    "Before we can move onto the next part of the course, we need to understand how the file system works, so I'm going to be switching to the terminal for this part of the class.\n",
    "\n",
    "[DEMO]\n",
    "\n",
    "**Definition** _a file_ - a piece of memory that stores information as a string.\n",
    "\n",
    "**Definition** _a folder_ - a collection of files and folders, contained within it.\n",
    "\n",
    "**Definition** _current working directory_ - the current directory that your terminal or program is referencing.\n",
    "\n",
    "**Definition** _command line comands_ - functions you can call from your command line to act on files and folders.  You can think of these like the worlds first \"apps\".  Similar to the ones you use on your smart phone.\n",
    "\n",
    "**Definition** _root directory_ - the top of your file system.  This is the directory you hit when you type `cd /`.\n",
    "\n",
    "**Definition** _home directory_ - the top of your users file system.  This is the directory you hit when you type `cd ~`.\n",
    "\n",
    "**Definition** _full file path_ - the full path from your root directory to your current folder.\n",
    "\n",
    "**Definition** _relative file path_ - the file path to the directory or file you want to reference, relative to the directory you are currently in.\n",
    "\n",
    "\n",
    "And now a list of commands:\n",
    "\n",
    "* `ls` - see all the files and folders in your current working directory\n",
    "* `cd` - change directories by passing this command a folder.\n",
    "* `pwd` - print out the full path to current directory.\n",
    "\n",
    "Now that we understand the basics of the file system, let's see how Python manipulates the file system with code."
   ]
  },
  {
   "cell_type": "code",
   "execution_count": 5,
   "metadata": {},
   "outputs": [
    {
     "name": "stdout",
     "output_type": "stream",
     "text": [
      "/Users/ericschles/Documents/projects/python_courses/an_introduction_to_python\n",
      "/Users/ericschles/Documents/projects/python_courses\n",
      "/Users/ericschles/Documents/projects/python_courses/an_introduction_to_python\n"
     ]
    }
   ],
   "source": [
    "import os\n",
    "\n",
    "current_directory = os.getcwd()\n",
    "print(os.getcwd()) #equivalent to pwd\n",
    "os.chdir(\"..\") # equivalent to cd ..\n",
    "print(os.getcwd())\n",
    "os.chdir(current_directory)\n",
    "print(os.getcwd())"
   ]
  },
  {
   "cell_type": "code",
   "execution_count": 8,
   "metadata": {},
   "outputs": [
    {
     "name": "stdout",
     "output_type": "stream",
     "text": [
      "False\n",
      "True\n"
     ]
    }
   ],
   "source": [
    "import os\n",
    "\n",
    "print(os.path.isdir(\"class_two.ipynb\"))\n",
    "print(os.path.isfile(\"class_two.ipynb\"))"
   ]
  },
  {
   "cell_type": "markdown",
   "metadata": {},
   "source": [
    "Okay so we can mess with the file system and change between directories programmatically, so what?  Well, this becomes extremely powerful if we add the ability to read and write files!  Think about how many tasks we can automate with that :) \n",
    "\n",
    "Here's just _an_ example - Say your boss asks you for a report every friday at 4pm of what happened last week.  All of the information is recorded in a database.  And right now you just click some buttons, download some data from a database and then copy/paste the results into a template.  What if a program automatically generated the data, directly from the database and then emailed it to your boss.  Then you could work on other stuff!  No more having to do the same boring task every friday and right before the end of the work day!\n",
    "\n",
    "Now imagine you could do that for every single task like that.  Imagine how much time you'd save!  You could focus on high impact, stimulating work, instead of the boring stuff.  \n",
    "\n",
    "Hopefully this motivates the next example well enough for your needs (I know that folks asked me for this kinda stuff all the time in my first job)."
   ]
  },
  {
   "cell_type": "code",
   "execution_count": 10,
   "metadata": {},
   "outputs": [
    {
     "name": "stdout",
     "output_type": "stream",
     "text": [
      "Hello there!\n"
     ]
    }
   ],
   "source": [
    "new_file = open(\"new_file.txt\", \"w\")\n",
    "\n",
    "new_file.write(\"Hello there!\")\n",
    "new_file.close()\n",
    "\n",
    "just_created_file = open(\"new_file.txt\", \"r\")\n",
    "print(just_created_file.read())"
   ]
  },
  {
   "cell_type": "markdown",
   "metadata": {},
   "source": [
    "What did we just do?!?!  We created a file with `open` and then we wrote a string to it and then we closed it.  And finally we re-openned the file and read it's contents.\n",
    "\n",
    "So you'll notice that the open command takes a second string.  The first time we used it looked like this:\n",
    "\n",
    "`new_file = open(\"new_file.txt\", \"w\")`\n",
    "\n",
    "What that means is, open the file for writing and the string \"w\" tells open to do just that - open the file for writing.\n",
    "\n",
    "Later on we used open like so:\n",
    "\n",
    "`just_created_file = open(\"new_file.txt\", \"r\")` - this tells open to open the file for reading, with \"r\" for reading.\n",
    "\n",
    "There is a third command we'll be interested in today: appending.\n",
    "\n",
    "open with the \"w\" passed in as the second input opens a file for writing, and if it doesn't exist yet, it creates the file for you!  However, if the file already exists, it overwrites any content already in the file.  That's clearly not always what we want.\n",
    "\n",
    "So there is a `open(\"new_file.txt\", \"a\")` comamnd which opens a new file for appending.  This means the file's contents is added to, instead of overwritten.  \n",
    "\n",
    "So let's try it out!"
   ]
  },
  {
   "cell_type": "code",
   "execution_count": 11,
   "metadata": {},
   "outputs": [
    {
     "name": "stdout",
     "output_type": "stream",
     "text": [
      "Hello there!\n",
      " yo!\n"
     ]
    }
   ],
   "source": [
    "file_handle = open(\"new_file.txt\", \"a\")\n",
    "file_handle.write(\"\\n yo!\")\n",
    "file_handle.close()\n",
    "\n",
    "file_handle = open(\"new_file.txt\", \"r\")\n",
    "print(file_handle.read())"
   ]
  },
  {
   "cell_type": "markdown",
   "metadata": {},
   "source": [
    "Now we'll try the same thing, except will use \"w\" instead of \"a\" for the second parameter."
   ]
  },
  {
   "cell_type": "code",
   "execution_count": 12,
   "metadata": {},
   "outputs": [
    {
     "name": "stdout",
     "output_type": "stream",
     "text": [
      "\n",
      " yo!\n"
     ]
    }
   ],
   "source": [
    "file_handle = open(\"new_file.txt\", \"w\")\n",
    "file_handle.write(\"\\n yo!\")\n",
    "file_handle.close()\n",
    "\n",
    "file_handle = open(\"new_file.txt\", \"r\")\n",
    "print(file_handle.read())"
   ]
  },
  {
   "cell_type": "markdown",
   "metadata": {},
   "source": [
    "As you can see, \"Hello there!\" is gone."
   ]
  },
  {
   "cell_type": "code",
   "execution_count": null,
   "metadata": {
    "collapsed": true
   },
   "outputs": [],
   "source": []
  }
 ],
 "metadata": {
  "kernelspec": {
   "display_name": "Python 3",
   "language": "python",
   "name": "python3"
  },
  "language_info": {
   "codemirror_mode": {
    "name": "ipython",
    "version": 3
   },
   "file_extension": ".py",
   "mimetype": "text/x-python",
   "name": "python",
   "nbconvert_exporter": "python",
   "pygments_lexer": "ipython3",
   "version": "3.6.1"
  }
 },
 "nbformat": 4,
 "nbformat_minor": 2
}
