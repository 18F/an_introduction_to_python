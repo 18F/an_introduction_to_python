{
 "cells": [
  {
   "cell_type": "markdown",
   "metadata": {},
   "source": [
    "# Class One - A Gentle Introduction\n",
    "\n",
    "The Python language is a high level object oriented programming language with influences from many other programming languages.  It exists within the spectrum of possible computer languages.\n",
    "\n",
    "## First Point\n",
    "\n",
    "Python, like all computer languages, is a written language.  We can think of this language, like others as having nouns and verbs.\n",
    "\n",
    "Today, we will learn a few nouns and verbs for this language."
   ]
  },
  {
   "cell_type": "markdown",
   "metadata": {},
   "source": [
    "# First Nouns"
   ]
  },
  {
   "cell_type": "code",
   "execution_count": 1,
   "metadata": {
    "collapsed": true
   },
   "outputs": [],
   "source": [
    "string_variable = \"\"\n",
    "integer_variable = 0\n",
    "floating_point_variable = 0.0\n",
    "boolean_variable = True"
   ]
  },
  {
   "cell_type": "markdown",
   "metadata": {},
   "source": [
    "The above four examples show us the most common four variables - strings, integers, floats, and booleans.  \n",
    "\n",
    "**Definition** _Integer_ - An integer is a whole number that can be treated as a mathematical object.  It is one that can be added to, subtracted from, divided by, or multiplied by; to get new numbers.\n",
    "\n",
    "**Definition** _Floating Point Number_ - A floating point number is a whole number + some list of numbers after the decimal point.  Floating point numbers can be thought of as belonging to the set of real numbers, from mathematics.  They too, like numbers, can be added, subtracted, multiplied and divided.\n",
    "\n",
    "**Definition** _String_ - A string is literal, whatever exists between the open quote (`\"`) and the close quote (`\"`), will be treated as is.  We see strings as different in a fundamental way from numbers, they can be manipulated, in most high level computer languages, however they cannot be added to, subtracted from, multiplied by or divided by.\n",
    "\n",
    "**Definition** _Boolean_ - A boolean is a binary variable.  It can only take on one of two values, True and False.  The notion of being able to state True or False with semantic interpretability is a powerful construct.  \n",
    "\n",
    "_Aside_: Being able to speak in terms of absolute truth with lend us the ability to do some extraordinary things."
   ]
  },
  {
   "cell_type": "markdown",
   "metadata": {},
   "source": [
    "# First Verbs"
   ]
  },
  {
   "cell_type": "code",
   "execution_count": 5,
   "metadata": {},
   "outputs": [
    {
     "name": "stdout",
     "output_type": "stream",
     "text": [
      "Adding 5 + 7 = 12\n",
      "Dividing 6.3 by 17 = 0.37058823529411766\n",
      "Concatenating the literal 5 and the literal 7 yields 57\n",
      "The truth value of True AND False is False\n"
     ]
    }
   ],
   "source": [
    "integer_result = 5 + 7\n",
    "print(\"Adding 5 + 7 = {}\".format(integer_result))\n",
    "floating_point_result = 6.3 / 17\n",
    "print(\"Dividing 6.3 by 17 = {}\".format(floating_point_result))\n",
    "string_result = \"5\" + \"7\"\n",
    "print(\"Concatenating the literal 5 and the literal 7 yields {}\".format(string_result))\n",
    "boolean_result = True and False\n",
    "print(\"The truth value of True AND False is {}\".format(boolean_result))\n"
   ]
  },
  {
   "cell_type": "markdown",
   "metadata": {},
   "source": [
    "# Understanding how to use verbs and nouns together\n",
    "\n",
    "In this last example we used each of the nouns we defined, often called types of data, or types for short.  Notice that the types interacted with verbs:\n",
    "\n",
    "* \"+\" - addition for integers and floating point numbers, concatenation for strings.\n",
    "* \"/\" - division for integers and floating point numbers.\n",
    "* \"and\" - logical AND for booleans.\n",
    "* `print()` - prints strings to the screen.\n",
    "\n",
    "Notice that we are seeing two types of verbs, or as computer programmers often call them, functions.  The first type of functions works by placing it's inputs on either side of the function.  For instance:\n",
    "\n",
    "`True and False`\n",
    "\n",
    "Or\n",
    "\n",
    "`5 + 7`\n",
    "\n",
    "However, the `print()` function doesn't work like that, it takes it's inputs in order, as a list of inputs.  Most computer functions in Python work with way.  There are lot of good reasons for this, but the simpliest one is the following:\n",
    "\n",
    "Try to add 12 integers using \"+\" - `1 + 2 + 3 + 4 + 5 + 6 + 7 + 8 + 9 + 10 + 11 + 12`. Let's see the result just for fun:\n"
   ]
  },
  {
   "cell_type": "code",
   "execution_count": 6,
   "metadata": {},
   "outputs": [
    {
     "data": {
      "text/plain": [
       "78"
      ]
     },
     "execution_count": 6,
     "metadata": {},
     "output_type": "execute_result"
    }
   ],
   "source": [
    "1 + 2 + 3 + 4 + 5 + 6 + 7 + 8 + 9 + 10 + 11 + 12"
   ]
  },
  {
   "cell_type": "markdown",
   "metadata": {},
   "source": [
    "That was a lot of typing!  We had to write the plus operator 11 times!  Let's look at this same example, if we used the function the other way, like the print function:\n",
    "\n",
    "`add(1, 2, 3, 4, 5, 6, 7, 8, 9, 10, 11, 12)`\n",
    "\n",
    "Way less typing!\n",
    "\n",
    "But wait, we don't have an add function already defined for us in Python.  Is there a way we could make our own?  "
   ]
  },
  {
   "cell_type": "markdown",
   "metadata": {},
   "source": [
    "# Defining Our Own Functions\n",
    "\n",
    "It turns out defining our own functions in Python is very, very easy, unlike some other languages.\n",
    "\n",
    "Here's the general syntax for doing so:\n",
    "\n",
    "```\n",
    "def function_name(first_input, second_input, third_input):\n",
    "    # ... some code goes here\n",
    "    return result_of_code\n",
    "```\n",
    "\n",
    "So let's see what it's like defining our own function:"
   ]
  },
  {
   "cell_type": "code",
   "execution_count": 8,
   "metadata": {},
   "outputs": [
    {
     "name": "stdout",
     "output_type": "stream",
     "text": [
      "5 + 7 is 12\n"
     ]
    }
   ],
   "source": [
    "def add(first_input, second_input):\n",
    "    return first_input + second_input\n",
    "\n",
    "print(\"5 + 7 is {}\".format(add(5,7)))"
   ]
  },
  {
   "cell_type": "markdown",
   "metadata": {},
   "source": [
    "We'll learn later on in the course how to take in an arbitrary of inputs to Python functions later on in the course.  But for now, just take my word that it's possible to do this."
   ]
  },
  {
   "cell_type": "markdown",
   "metadata": {},
   "source": [
    "# The Power Of Booleans\n",
    "\n",
    "Earlier on in the less I said that boolean values were AWESOME.  And now I'm going to show you how awesome they are.  With booleans we can do a lot of things like:\n",
    "\n",
    "* Write a program that never ends\n",
    "* Write expressions that evaluate to True or False\n",
    "* Write functions that evaluate to True or False"
   ]
  },
  {
   "cell_type": "code",
   "execution_count": null,
   "metadata": {
    "collapsed": true
   },
   "outputs": [],
   "source": [
    "# A program that never ends\n",
    "\n",
    "while True:\n",
    "    print(\"This is the song that never ends, it goes on and on my friend\")\n",
    "    print(\"some people started singing it, not knowing what it was.\")\n",
    "    print(\"And now they keep on singing it and that is just because,\")\n",
    "# Don't run this!!!!"
   ]
  },
  {
   "cell_type": "markdown",
   "metadata": {},
   "source": [
    "We'll get into the while keyboard in a later lecture and all this other crazy stuff.  But for now, just think of the statement doing the following:\n",
    "\n",
    "```\n",
    "while [Some statement that is True remains true]:\n",
    "    do everything inside of the while statement\n",
    "```\n",
    "\n",
    "So this means, things will _keep_ happening _forever_, if the statement is never false.  Well, `True` is always `True`, and we can check that:"
   ]
  },
  {
   "cell_type": "code",
   "execution_count": 9,
   "metadata": {},
   "outputs": [
    {
     "data": {
      "text/plain": [
       "True"
      ]
     },
     "execution_count": 9,
     "metadata": {},
     "output_type": "execute_result"
    }
   ],
   "source": [
    "True == True"
   ]
  },
  {
   "cell_type": "markdown",
   "metadata": {},
   "source": [
    "Yup, checks out!  \n",
    "\n",
    "So as long as `True` is `True`, we are guaranteed that this statement keeps being executed.  That's going to be super useful for us later on, because we may want to write programs that never end."
   ]
  },
  {
   "cell_type": "markdown",
   "metadata": {},
   "source": [
    "Let's look at another case now, writing expressions that evaluate to `True` or `False`.  \n",
    "\n",
    "It turns out that if you make use of a boolean function then your expression will return one of these.  The list of builtin boolean functions includes:\n",
    "\n",
    "* `<` - less than\n",
    "* `<=` - less than or equal to\n",
    "* `>` - greater than\n",
    "* `>=` - greater than or equal to\n",
    "* `==` - equal to\n",
    "* `and` - Logical AND\n",
    "* `or` - Logical OR\n",
    "* `not` - reverses the truth value of the statement\n",
    "* `in` - checks if an element is in a collection (we'll get to this)\n",
    "* `is` - is checks if two things are the same, it's similar equal to, but not the same (don't worry too much about this for now).\n",
    "\n",
    "We'll only concern ourselves today with everything up to `not`, all the other booleans will be discussed later on.\n",
    "\n",
    "So let's see our first example:  \n",
    "\n",
    "Let's check if 5 is less than 7"
   ]
  },
  {
   "cell_type": "code",
   "execution_count": 11,
   "metadata": {},
   "outputs": [
    {
     "name": "stdout",
     "output_type": "stream",
     "text": [
      "True\n"
     ]
    }
   ],
   "source": [
    "print(5 < 7)"
   ]
  },
  {
   "cell_type": "markdown",
   "metadata": {},
   "source": [
    "Great!  Now what can we do with that?  It turns out Python has a builtin function that let's you check `if` an expression returns `True`."
   ]
  },
  {
   "cell_type": "code",
   "execution_count": 12,
   "metadata": {},
   "outputs": [
    {
     "name": "stdout",
     "output_type": "stream",
     "text": [
      "turns out, 5 is less than 7\n"
     ]
    }
   ],
   "source": [
    "if 5 < 7:\n",
    "    print(\"turns out, 5 is less than 7\")"
   ]
  },
  {
   "cell_type": "markdown",
   "metadata": {},
   "source": [
    "And we can also check if an expression isn't `True` we can do something else, via an else statement."
   ]
  },
  {
   "cell_type": "code",
   "execution_count": 13,
   "metadata": {},
   "outputs": [
    {
     "name": "stdout",
     "output_type": "stream",
     "text": [
      "turns out, 5 is less than 7\n"
     ]
    }
   ],
   "source": [
    "if 5 < 7:\n",
    "    print(\"turns out, 5 is less than 7\")\n",
    "else:\n",
    "    print(\"uh oh, looks like we implemented Math wrong!\")"
   ]
  },
  {
   "cell_type": "markdown",
   "metadata": {},
   "source": [
    "There a whole list of powerful checks we can do, to express many powerful ideas, just by making use of this high level powerful syntax.  We'll concern ourselves with a few more examples now."
   ]
  },
  {
   "cell_type": "code",
   "execution_count": 14,
   "metadata": {},
   "outputs": [
    {
     "name": "stdout",
     "output_type": "stream",
     "text": [
      "looks like lots of the math we know works in programs\n"
     ]
    }
   ],
   "source": [
    "if 5 < 7 and 14 > 12:\n",
    "    print(\"looks like lots of the math we know works in programs\")\n",
    "else:\n",
    "    print(\"hmm maybe I don't remember how to check for less than after all\")"
   ]
  },
  {
   "cell_type": "code",
   "execution_count": 15,
   "metadata": {},
   "outputs": [
    {
     "name": "stdout",
     "output_type": "stream",
     "text": [
      "I guess it makes sense that this is true\n"
     ]
    }
   ],
   "source": [
    "if 5 < 7 or 12 > 14:\n",
    "    print(\"I guess it makes sense that this is true\")\n",
    "else:\n",
    "    print(\"woah, learned something new!\")"
   ]
  },
  {
   "cell_type": "code",
   "execution_count": 16,
   "metadata": {},
   "outputs": [
    {
     "name": "stdout",
     "output_type": "stream",
     "text": [
      "phew, not going crazy, yet.\n"
     ]
    }
   ],
   "source": [
    "if 5 == 7:\n",
    "    print(\"what? When did that happen\")\n",
    "else:\n",
    "    print(\"phew, not going crazy, yet.\")"
   ]
  },
  {
   "cell_type": "markdown",
   "metadata": {},
   "source": [
    "# Assignment\n",
    "\n",
    "https://github.com/18F/an_introduction_to_python#assignment-for-class-1"
   ]
  },
  {
   "cell_type": "code",
   "execution_count": null,
   "metadata": {
    "collapsed": true
   },
   "outputs": [],
   "source": []
  }
 ],
 "metadata": {
  "kernelspec": {
   "display_name": "Python 3",
   "language": "python",
   "name": "python3"
  },
  "language_info": {
   "codemirror_mode": {
    "name": "ipython",
    "version": 3
   },
   "file_extension": ".py",
   "mimetype": "text/x-python",
   "name": "python",
   "nbconvert_exporter": "python",
   "pygments_lexer": "ipython3",
   "version": "3.6.1"
  }
 },
 "nbformat": 4,
 "nbformat_minor": 2
}
