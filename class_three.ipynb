{
 "cells": [
  {
   "cell_type": "markdown",
   "metadata": {},
   "source": [
    "# Class three - Dealing with iteration\n",
    "\n",
    "So far we've covered a lot of ground!  Talking about types and math and imports, My Word!  But the greatest strength of computers has not yet been discussed.  This foundational power house is central to why computers are the transformative power houses they are.  And all of it comes down to one simple idea: iteration.\n",
    "\n",
    "To get a true sense of the real power of iteration, let's look at a historical example:\n",
    "\n",
    "This comes to us from world war 2 and the work of Alan Turing, one of the first computer scientists.\n",
    "\n",
    "He used iteration to crack the German's enigma machine.  The specifics of how we did it are out of scope for the course.  But I can say iteration is at the core of the solution.  \n",
    "\n",
    "The problem being solved is well formulated in the movie the imitation game - here is an approximate description of that problem:\n",
    "\n",
    "The German's send codes using engima over open airways.  Anyone can intercept them, but the messages will be encoded.  You need an engima machine in order to decode the message.  Now the Polish Cryptographers have figured out how to decode the engima machine, if they know the configuration of the machine.  Unfortunately, the configuration space for enigma was impossibly large:"
   ]
  },
  {
   "cell_type": "code",
   "execution_count": 4,
   "metadata": {},
   "outputs": [
    {
     "data": {
      "text/plain": [
       "107458687327250619360000"
      ]
     },
     "execution_count": 4,
     "metadata": {},
     "output_type": "execute_result"
    }
   ],
   "source": [
    "60 * 17576 * 676 * 150738274937250"
   ]
  },
  {
   "cell_type": "markdown",
   "metadata": {},
   "source": [
    "possible configurations to be exact.  It is impossible to know which configuration to check, so you have to check all of them.  Before Turing built his machine, you'd need to do this _by hand_.\n",
    "\n",
    "Here is some \"semi\" real code that does what turing's machine did."
   ]
  },
  {
   "cell_type": "code",
   "execution_count": null,
   "metadata": {
    "collapsed": true
   },
   "outputs": [],
   "source": [
    "def combine(config, message):\n",
    "    # actual config message is out of scope\n",
    "    return message\n",
    "\n",
    "def check_config(config, message):\n",
    "    result = combine(config, message)\n",
    "    if \"Hitler\" in result:\n",
    "        return True\n",
    "    else:\n",
    "        return False\n",
    "    \n",
    "def find_config():\n",
    "    for config in configurations:\n",
    "        if check_config(config, message):\n",
    "            return config\n",
    "    return \"config not found\""
   ]
  },
  {
   "cell_type": "markdown",
   "metadata": {},
   "source": [
    "Granted, the combine function which I haven't defined is complex and enumerating all the possible configurations is also complex.  But other than that, the algorithm is really pretty simple, _because of iteration_.  That's what makes computers so powerful - they can iterate through an extremely large number of possible things, very, very fast.\n",
    "\n",
    "This of course isn't the only example of iteration changing the way of humanity.  The next example comes to us from NASA in the 1960s.  \n",
    "\n",
    "The problem definition here was also well formed in another major film - hidden figures:\n",
    "\n",
    "The rocket they were trying to send into space needed dynamic calculations of certain forces.  If the calculations were wrong, on reentry, the space capsule would not come down correctly, killing the pilot inside.  So you needed a method to dynamically figure out the forces on the capsule, in order to dynamically readjust the forces on the capsule.\n",
    "\n",
    "Enter Euler's method:"
   ]
  },
  {
   "cell_type": "code",
   "execution_count": null,
   "metadata": {
    "collapsed": true
   },
   "outputs": [],
   "source": [
    "import numpy as np\n",
    "import matplotlib.pyplot as plt\n",
    "from __future__ import division\n",
    "\n",
    "# Concentration over time\n",
    "N = lambda t: N0 * np.exp(-k * t)\n",
    "# dN/dt\n",
    "def dx_dt(x):\n",
    "    return -k * x\n",
    "\n",
    "k = .5\n",
    "h = 0.001\n",
    "N0 = 100.\n",
    "\n",
    "t = np.arange(0, 10, h)\n",
    "y = np.zeros(len(t))\n",
    "\n",
    "y[0] = N0\n",
    "for i in range(1, len(t)):\n",
    "    # Euler's method\n",
    "    y[i] = y[i-1] + dx_dt(y[i-1]) * h\n",
    "\n",
    "max_error = abs(y-N(t)).max()\n",
    "print('Max difference between the exact solution and Euler's approximation with step size h=0.001:')\n",
    "\n",
    "print('{0:.15}'.format(max_error))"
   ]
  },
  {
   "cell_type": "markdown",
   "metadata": {},
   "source": [
    "There is a lot of heavy math in this function, but don't focus on it.  Just recognize that there is a loop here:\n",
    "\n",
    "```\n",
    "for i in range(1, len(t)):\n",
    "    # Euler's method\n",
    "    y[i] = y[i-1] + dx_dt(y[i-1]) * h\n",
    "```\n",
    "\n",
    "Without iteration, we never would have been able to make these calculations fast enough to ensure good enough force calculations."
   ]
  },
  {
   "cell_type": "markdown",
   "metadata": {},
   "source": [
    "Hopefully this well motivates iteration for you and it's power - defeating the Nazi's in world war 2 and safely returning home from space travel.  That's just some of the power of iteration.\n",
    "\n",
    "Enough talking about it!  Here's how to do it.\n",
    "\n",
    "# The While Loop\n",
    "\n",
    "The while loop is the simplest form of iteration and is easiest to reason about, so we'll start with that.  The general form of a while loop is:\n",
    "\n",
    "1. intialize value\n",
    "2. write while loop with exit loop condition\n",
    "3. block of code to execute until loop completes"
   ]
  },
  {
   "cell_type": "code",
   "execution_count": 34,
   "metadata": {},
   "outputs": [
    {
     "name": "stdout",
     "output_type": "stream",
     "text": [
      "by hand\n",
      "0\n",
      "1\n",
      "2\n",
      "using iteration\n",
      "0\n",
      "1\n",
      "2\n",
      "3\n",
      "4\n",
      "5\n",
      "6\n",
      "7\n",
      "8\n",
      "9\n"
     ]
    }
   ],
   "source": [
    "print(\"by hand\")\n",
    "x = 0\n",
    "print(x)\n",
    "x = x + 1\n",
    "print(x)\n",
    "x = x + 1\n",
    "print(x)\n",
    "print(\"using iteration\")\n",
    "x = 0\n",
    "while x < 10:\n",
    "    print(x)\n",
    "    x = x + 1"
   ]
  },
  {
   "cell_type": "markdown",
   "metadata": {},
   "source": [
    "The above shows the simplicity of doing the computation.  Something important to note: we have to update the value of x in our loop.  If we didn't than `x < 10` would never become `False` and our loop would continue forever.  That's because while loops are kind of like `if` statements - they execute until they evaluate to `False`.\n",
    "\n",
    "Let's rewrite our while loop with some short hand in the python language."
   ]
  },
  {
   "cell_type": "code",
   "execution_count": 6,
   "metadata": {},
   "outputs": [
    {
     "name": "stdout",
     "output_type": "stream",
     "text": [
      "0\n",
      "1\n",
      "2\n",
      "3\n",
      "4\n",
      "5\n",
      "6\n",
      "7\n",
      "8\n",
      "9\n"
     ]
    }
   ],
   "source": [
    "x = 0\n",
    "while x < 10:\n",
    "    print(x)\n",
    "    x += 1 # equivalent to x = x + 1"
   ]
  },
  {
   "cell_type": "markdown",
   "metadata": {},
   "source": [
    "Notice this code is more or less the same, the big difference is the shift from `x = x + 1` to `x += 1`.  It's kind of a weird thing in general and you have to get used to it, I certainly did.  What's actually happening is you are saying:\n",
    "\n",
    "x + 1 and then store the result of that in a new variable which overwrites the old value of x.\n",
    "So you actually read the code x = x + 1 from right hand side to left hand side, instead of left hand side to right hand side.  Kinda weird right?\n",
    "\n",
    "The short hand and the original code: `x = x + 1` and `x += 1` mean the same thing.  There is no deep logical stuff going on here.  This is just a bit of syntax change for readability."
   ]
  },
  {
   "cell_type": "markdown",
   "metadata": {},
   "source": [
    "## Introduction to Lists\n",
    "\n",
    "So we've talked about iteration, the next thing to cover is lists, so we can have something to iterate over!  A list is just a collection of objects stored together.  We can think of this kind of like a list of nouns.\n",
    "\n",
    "Let's see an example of a human list:\n",
    "\n",
    "* dough\n",
    "* breed\n",
    "* cereal\n",
    "* rice\n",
    "* pasta\n",
    "\n",
    "This is a list of grains, something many of us should already be familiar with.  Here's another example:\n",
    "\n",
    "* Eric\n",
    "* Japan\n",
    "* telephone\n",
    "* 5\n",
    "* False\n",
    "* running\n",
    "\n",
    "This is a list of words, with no inherent meaning.  So we can say, in general, a list is just a collection of things.  Whether they are associated or not doesn't matter, but we syntactically can group anything together, using english.  Now let's look at a Python list."
   ]
  },
  {
   "cell_type": "code",
   "execution_count": 36,
   "metadata": {},
   "outputs": [
    {
     "name": "stdout",
     "output_type": "stream",
     "text": [
      "[1, 2, 3, 4, 5, 6]\n",
      "[]\n"
     ]
    }
   ],
   "source": [
    "listing = [1, 2, 3, 4, 5, 6]\n",
    "print(listing)\n",
    "listing_two = list()\n",
    "print(listing_two)"
   ]
  },
  {
   "cell_type": "markdown",
   "metadata": {},
   "source": [
    "Here we see that we actually group Python nouns, like integers together!  The syntax for creating a list is as follows:\n",
    "\n",
    "`variable_name = []`\n",
    "\n",
    "OR\n",
    "\n",
    "`variable_name = list()`\n",
    "\n",
    "Both of the above create empty lists.  We can also start with lists that have elements in them!  \n",
    "\n",
    "Like the above example, or this one:"
   ]
  },
  {
   "cell_type": "code",
   "execution_count": 3,
   "metadata": {},
   "outputs": [
    {
     "data": {
      "text/plain": [
       "['hello', 'there', 'friends']"
      ]
     },
     "execution_count": 3,
     "metadata": {},
     "output_type": "execute_result"
    }
   ],
   "source": [
    "second_list = [\"hello\", \"there\", \"friends\"]\n",
    "second_list"
   ]
  },
  {
   "cell_type": "markdown",
   "metadata": {},
   "source": [
    "A list can store collections of any Python basic type we might like!  Even ones we dream up, but more on that later.  \n",
    "\n",
    "Let's see another example!"
   ]
  },
  {
   "cell_type": "code",
   "execution_count": 5,
   "metadata": {},
   "outputs": [
    {
     "data": {
      "text/plain": [
       "['hello', 5, 7.2, True]"
      ]
     },
     "execution_count": 5,
     "metadata": {},
     "output_type": "execute_result"
    }
   ],
   "source": [
    "third_list = [\"hello\", 5, 7.2, True]\n",
    "third_list"
   ]
  },
  {
   "cell_type": "markdown",
   "metadata": {},
   "source": [
    "We can even store multiple types in one list!  That's _crazy_!!!\n",
    "\n",
    "Now let's look at adding an element to a list and taking one away."
   ]
  },
  {
   "cell_type": "code",
   "execution_count": 7,
   "metadata": {},
   "outputs": [
    {
     "name": "stdout",
     "output_type": "stream",
     "text": [
      "After calling the append method the list looks like this [1, 2, 3, 4, 5, 6]\n",
      "After calling the remove method the list looks like this [1, 3, 4, 5, 6]\n"
     ]
    }
   ],
   "source": [
    "listing = [1, 2, 3, 4, 5]\n",
    "listing.append(6)\n",
    "print(\"After calling the append method the list looks like this {}\".format(listing))\n",
    "listing.remove(2)\n",
    "print(\"After calling the remove method the list looks like this {}\".format(listing))"
   ]
  },
  {
   "cell_type": "markdown",
   "metadata": {},
   "source": [
    "In the above example we added an element to the list, by appending it to the end of the list and we removed an element from the list, by calling the remove method.  Notice that append adds to the end of the list, while remove removes semantically from wherever the element in question is, in the list.\n",
    "\n",
    "Let's look at the full list of possible operations on lists"
   ]
  },
  {
   "cell_type": "code",
   "execution_count": 10,
   "metadata": {},
   "outputs": [
    {
     "data": {
      "text/plain": [
       "['append',\n",
       " 'clear',\n",
       " 'copy',\n",
       " 'count',\n",
       " 'extend',\n",
       " 'index',\n",
       " 'insert',\n",
       " 'pop',\n",
       " 'remove',\n",
       " 'reverse',\n",
       " 'sort']"
      ]
     },
     "execution_count": 10,
     "metadata": {},
     "output_type": "execute_result"
    }
   ],
   "source": [
    "[elem for elem in dir(list()) if \"__\" not in elem]"
   ]
  },
  {
   "cell_type": "code",
   "execution_count": 48,
   "metadata": {},
   "outputs": [
    {
     "name": "stdout",
     "output_type": "stream",
     "text": [
      "<class 'int'>\n",
      "<class 'str'>\n"
     ]
    },
    {
     "data": {
      "text/plain": [
       "[5, 'five']"
      ]
     },
     "execution_count": 48,
     "metadata": {},
     "output_type": "execute_result"
    }
   ],
   "source": [
    "5 < 7 # these are comparable!\n",
    "# [] < {}\n",
    "listing = [5, \"five\"]\n",
    "print(type(listing[0]))\n",
    "print(type(listing[1]))\n",
    "listing.insert(0, \"happy\")\n",
    "del listing[0]\n",
    "listing"
   ]
  },
  {
   "cell_type": "markdown",
   "metadata": {},
   "source": [
    "One of the most powerful things about lists is, if they are all the same type and comparable to one another, then you can call `list.sort()`, which will sort the elements in your list from lowest to highest for you.  Sorting is out of scope for this course, but I'll say, the sorting algorithm Python uses is very, very fast.\n",
    "\n",
    "Some other important methods are `count`, which counts the number of occurrences of an element in the list:"
   ]
  },
  {
   "cell_type": "code",
   "execution_count": 40,
   "metadata": {},
   "outputs": [
    {
     "data": {
      "text/plain": [
       "2"
      ]
     },
     "execution_count": 40,
     "metadata": {},
     "output_type": "execute_result"
    }
   ],
   "source": [
    "listing = [1, 2, 1, 2, 3, 3, 3, 3]\n",
    "listing.count(1)"
   ]
  },
  {
   "cell_type": "markdown",
   "metadata": {},
   "source": [
    "The `index` method which tells you the first index of an element."
   ]
  },
  {
   "cell_type": "code",
   "execution_count": 42,
   "metadata": {},
   "outputs": [
    {
     "data": {
      "text/plain": [
       "0"
      ]
     },
     "execution_count": 42,
     "metadata": {},
     "output_type": "execute_result"
    }
   ],
   "source": [
    "listing = [1, 2, 3, 4, 5, 1]\n",
    "listing.index(1)"
   ]
  },
  {
   "cell_type": "markdown",
   "metadata": {},
   "source": [
    "So at this point you may be asking yourself, what's an index?  An index is a number that allows you to call a specific element, by it's place in the list.  Often times the way programmers talk about this is by saying \"indexing into the list at a specific element\".  This way of describing it makes sense of you look at syntactically you reference an element by it's index in the list:"
   ]
  },
  {
   "cell_type": "code",
   "execution_count": 15,
   "metadata": {},
   "outputs": [
    {
     "name": "stdout",
     "output_type": "stream",
     "text": [
      "The zeroth index of the list is 1\n",
      "The 3rd index of the list is 4\n"
     ]
    }
   ],
   "source": [
    "listing = [1, 2, 3, 4, 5, 6, 7, 8]\n",
    "print(\"The zeroth index of the list is {}\".format(listing[0]))\n",
    "print(\"The 3rd index of the list is {}\".format(listing[3]))"
   ]
  },
  {
   "cell_type": "markdown",
   "metadata": {},
   "source": [
    "## An introduction to for loops\n",
    "\n",
    "Notice that the first index or first place in the list is 0, not 1.  This is a point of confusion for lots of folks, but number theorists have insisted for a long time that counting should start at 0, not 1.  There are some reasons this can be nice, for calculating distances in discrete space.  \n",
    "\n",
    "The next thing we'll look at is making use of our indexing to iterate over the list.  This will be just like what we did with while loops, except with a difference syntax.  First we'll see the example with a while loop and then we'll see it with a for loop."
   ]
  },
  {
   "cell_type": "code",
   "execution_count": 19,
   "metadata": {},
   "outputs": [
    {
     "name": "stdout",
     "output_type": "stream",
     "text": [
      "Iterating with a while loop\n",
      "1\n",
      "2\n",
      "3\n",
      "4\n",
      "5\n",
      "6\n",
      "7\n",
      "8\n",
      "\n",
      "Interating with a for loop\n",
      "1\n",
      "2\n",
      "3\n",
      "4\n",
      "5\n",
      "6\n",
      "7\n",
      "8\n"
     ]
    }
   ],
   "source": [
    "listing = [1, 2, 3, 4, 5, 6, 7, 8]\n",
    "\n",
    "print(\"Iterating with a while loop\")\n",
    "iterator = 0\n",
    "while iterator < len(listing):\n",
    "    print(listing[iterator])\n",
    "    iterator += 1\n",
    "print()\n",
    "print(\"Interating with a for loop\")\n",
    "for elem in listing:\n",
    "    print(elem)"
   ]
  },
  {
   "cell_type": "markdown",
   "metadata": {},
   "source": [
    "As you can see the two ways of looping are equivalent.  However, the for loop is the preferred way of doing this.  At first, at may seem less explicit, but you'll find that it leads to fewer errors in the program.  This is because you don't need to explicitly set the boolean condition for your loop to terminate.  Infinite loops - loops that never end are a big problem for while loops, and sometimes be very, very hard to debug, depending on how complex your terminating condition is.\n",
    "\n",
    "For loops solve this nicely, because you don't tell the loop when to terminate, the for loop figures it out, because it just goes over every index in the list.\n",
    "\n",
    "If you want to do something sophisticated with your list, which some folks do, you can explicitly still set up the counter like we did before, with the for-loop, so you don't lose any of the expressive power of the while loop, while using the for loop."
   ]
  },
  {
   "cell_type": "code",
   "execution_count": 22,
   "metadata": {},
   "outputs": [
    {
     "name": "stdout",
     "output_type": "stream",
     "text": [
      "The element of the list at index 0 is 1\n",
      "The element of the list at index 1 is 2\n",
      "The element of the list at index 2 is 3\n",
      "The element of the list at index 3 is 4\n",
      "The element of the list at index 4 is 5\n",
      "The element of the list at index 5 is 6\n",
      "The element of the list at index 6 is 7\n",
      "The element of the list at index 7 is 8\n"
     ]
    }
   ],
   "source": [
    "iterator = 0\n",
    "listing = [1, 2, 3, 4, 5, 6, 7, 8]\n",
    "\n",
    "for elem in listing:\n",
    "    print(\"The element of the list at index {} is {}\".format(iterator, elem))\n",
    "    iterator += 1"
   ]
  },
  {
   "cell_type": "markdown",
   "metadata": {},
   "source": [
    "This is a powerful and flexible syntax, but having to initialize the interator is also kind of annoying, so Python comes with a nice function doing this for you automatically as well:"
   ]
  },
  {
   "cell_type": "code",
   "execution_count": 50,
   "metadata": {},
   "outputs": [
    {
     "name": "stdout",
     "output_type": "stream",
     "text": [
      "The element of the list at index 0 is 1\n",
      "The element of the list at index 1 is 2\n",
      "The element of the list at index 2 is 3\n",
      "The element of the list at index 3 is 4\n",
      "The element of the list at index 4 is 5\n",
      "The element of the list at index 5 is 6\n",
      "The element of the list at index 6 is 7\n",
      "The element of the list at index 7 is 8\n"
     ]
    }
   ],
   "source": [
    "listing = [1, 2, 3, 4, 5, 6, 7, 8]\n",
    "for iterator, elem in enumerate(listing):\n",
    "    print(\"The element of the list at index {} is {}\".format(iterator, elem))"
   ]
  },
  {
   "cell_type": "markdown",
   "metadata": {},
   "source": [
    "No more pesky updating of iterators!  Now everything is clear, high level and clean.  \n",
    "\n",
    "So with all this talk of indexing, you may wonder, do you always have to index your lists by the counting numbers, also known as the natural numbers?\n",
    "\n",
    "## An introduction to dictionaries\n",
    "\n",
    "The answer is no!  It's time to meet our next kind of collection - the dictionary!"
   ]
  },
  {
   "cell_type": "code",
   "execution_count": 24,
   "metadata": {},
   "outputs": [
    {
     "data": {
      "text/plain": [
       "{1: 2, 2: 3, 4: 7}"
      ]
     },
     "execution_count": 24,
     "metadata": {},
     "output_type": "execute_result"
    }
   ],
   "source": [
    "dicter = {1:2, 2:3, 4:7}\n",
    "dicter"
   ]
  },
  {
   "cell_type": "markdown",
   "metadata": {},
   "source": [
    "In this dictionary, the index is the first number and the values are the second number.  In this collection we defined the index to be 1, 2, and 4 and the stored values to be 2, 3, and 7.  Certainly not indexed by the counting numbers, incremented one at a time!\n",
    "\n",
    "We can do a lot more than just have a weird indexing strategy with dictionaries.  We can _even_ create mappings or lookups from words to other words.\n"
   ]
  },
  {
   "cell_type": "code",
   "execution_count": 26,
   "metadata": {},
   "outputs": [
    {
     "data": {
      "text/plain": [
       "\"Hi my name is Teacher I'm friends with Person and he has a Cat named Cat\""
      ]
     },
     "execution_count": 26,
     "metadata": {},
     "output_type": "execute_result"
    }
   ],
   "source": [
    "dicter_two = {\"Eric\": \"Teacher\", \"Bob\": \"Person\", \"Dog\":\"Cat\"}\n",
    "sentence = \"Hi my name is Eric I'm friends with Bob and he has a Dog named Dog\"\n",
    "new_sentence = []\n",
    "for word in sentence.split():\n",
    "    if word in dicter_two:\n",
    "        new_sentence.append(dicter_two[word])\n",
    "    else:\n",
    "        new_sentence.append(word)\n",
    "\" \".join(new_sentence)"
   ]
  },
  {
   "cell_type": "markdown",
   "metadata": {},
   "source": [
    "There is a lot going on here!  The first thing to see is that we can create a list, by calling `split()` on a string!  This method is pretty amazing, it splits strings on white space characters like `' '`.  And turns them into lists of words.  Then I'm using a for loop for each word, if the word is in the index, usually called keys, of the dictionary then I do the mapping.  Otherwise I append the word to the list, as is.  Finally a join all the words back together.\n",
    "\n",
    "The join method on a string is the opposite operation of split.  Instead of splitting apart a string into a bunch of strings in a list.  It takes a list of strings and stitches them all together with whatever string you are calling join on, in this case, a white space.\n",
    "\n",
    "## An introduction to sets\n",
    "The final thing we are going to discuss today is sets."
   ]
  },
  {
   "cell_type": "markdown",
   "metadata": {},
   "source": [
    "A set is the least interesting, but still useful, collection we will be looking at today.  You can't index into it, you can't even add more than one element with the same value to it!\n",
    "\n",
    "But this turns out to be a powerful tool none the less.  Here we will see some of the power of sets:"
   ]
  },
  {
   "cell_type": "code",
   "execution_count": 29,
   "metadata": {},
   "outputs": [
    {
     "name": "stdout",
     "output_type": "stream",
     "text": [
      "This list has 10000 elements of which 10 are unique\n"
     ]
    }
   ],
   "source": [
    "import random\n",
    "listing = [random.randint(1,10) for _ in range(10000)]\n",
    "print(\"This list has {} elements of which {} are unique\".format(len(listing), len(set(listing))))"
   ]
  },
  {
   "cell_type": "markdown",
   "metadata": {},
   "source": [
    "We can also iterate over sets like follows:\n"
   ]
  },
  {
   "cell_type": "code",
   "execution_count": 30,
   "metadata": {},
   "outputs": [
    {
     "name": "stdout",
     "output_type": "stream",
     "text": [
      "1\n",
      "2\n",
      "3\n",
      "4\n",
      "5\n",
      "6\n",
      "7\n",
      "8\n",
      "9\n",
      "10\n"
     ]
    }
   ],
   "source": [
    "set_list = set(listing)\n",
    "for elem in set_list:\n",
    "    print(elem)"
   ]
  },
  {
   "cell_type": "code",
   "execution_count": null,
   "metadata": {
    "collapsed": true
   },
   "outputs": [],
   "source": []
  }
 ],
 "metadata": {
  "kernelspec": {
   "display_name": "Python 3",
   "language": "python",
   "name": "python3"
  },
  "language_info": {
   "codemirror_mode": {
    "name": "ipython",
    "version": 3
   },
   "file_extension": ".py",
   "mimetype": "text/x-python",
   "name": "python",
   "nbconvert_exporter": "python",
   "pygments_lexer": "ipython3",
   "version": "3.6.1"
  }
 },
 "nbformat": 4,
 "nbformat_minor": 2
}
